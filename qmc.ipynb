{
 "cells": [
  {
   "cell_type": "markdown",
   "metadata": {},
   "source": [
    "# Quantum Monte Carlo\n",
    "This file showcases all the code that was used in the AMS553 final project\n",
    "\n",
    "Author: David Miloschewsky"
   ]
  },
  {
   "cell_type": "code",
   "execution_count": 1,
   "metadata": {},
   "outputs": [],
   "source": [
    "# Imports\n",
    "import qiskit as qi\n",
    "from qiskit_finance.circuit.library import NormalDistribution\n",
    "from qiskit.circuit.library import LinearAmplitudeFunction\n",
    "from qiskit.algorithms import EstimationProblem, IterativeAmplitudeEstimation\n",
    "from qiskit.transpiler import PassManager\n",
    "from qiskit_machine_learning.algorithms.distribution_learners.qgan import QGAN\n",
    "from qiskit.circuit.library import TwoLocal\n",
    "from qiskit.transpiler.passes import Unroller\n",
    "import matplotlib.pyplot as plt\n",
    "import numpy as np\n",
    "import warnings\n",
    "from tqdm import tqdm\n",
    "import math\n",
    "from typing import List\n",
    "warnings.filterwarnings(\"ignore\")"
   ]
  },
  {
   "cell_type": "markdown",
   "metadata": {},
   "source": [
    "## Probability distribution in a quantum state\n",
    "In this section we show several ways to insert a probability distribution into the amplitudes of N qubits.\n",
    "\n",
    "First we create an algorithm to load an arbitrary distribution and then we show some Qiskit commands that load a distribution in a simple manner."
   ]
  },
  {
   "cell_type": "code",
   "execution_count": 2,
   "metadata": {},
   "outputs": [],
   "source": [
    "# Function to arbitrarily load a distribution\n",
    "def prob_to_theta(p: float):\n",
    "    return 2 * np.arcsin(np.sqrt(p))\n",
    "\n",
    "def get_zero_prob(vec: list):\n",
    "    \"\"\"\n",
    "    Returns the probability that given a vector, the elements with zero in the first bit are 0\n",
    "    \"\"\"\n",
    "    return sum(vec[:len(vec)//2])\n",
    "\n",
    "def add_to_circuit(qc: qi.QuantumCircuit, distr, i, n, prev_p, prev_bits):\n",
    "    \"\"\"\n",
    "    Recursive function which adds the necessary \n",
    "    \"\"\"\n",
    "    p = get_zero_prob(distr)\n",
    "    if i==n or abs(p)<0.001:\n",
    "        return qc\n",
    "    # Adding the necessary gates\n",
    "    if i == 0:\n",
    "        qc.ry(prob_to_theta(p), [0])\n",
    "    else:\n",
    "        for j in prev_bits:\n",
    "            qc.x(j)\n",
    "        qc.cry(prob_to_theta(p/prev_p), list(range(i)), [i])\n",
    "        for j in prev_bits:\n",
    "            qc.x(j)\n",
    "    # Using recursion\n",
    "    qc = add_to_circuit(qc, distr[:len(distr)//2], i+1, n, 1-p, prev_bits)\n",
    "    qc = add_to_circuit(qc, distr[len(distr)//2:], i+1, n, p, prev_bits + [i])\n",
    "    return qc\n",
    "\n",
    "def arbitrary_distr(disc_distr: List[int]):\n",
    "    \"\"\"\n",
    "    The following function creates an arbitrary state that holds the discretized\n",
    "    values of dicret_distr\n",
    "    \"\"\"\n",
    "    # Normalizing\n",
    "    n = math.log(len(disc_distr), 2)\n",
    "    if n!=int(n):\n",
    "        n = math.ceil(n)\n",
    "        while len(disc_distr)!= 2**n:\n",
    "            disc_distr.append(0)\n",
    "    disc_distr = np.array(disc_distr)/sum(disc_distr)\n",
    "\n",
    "    # Creating the circuit\n",
    "    circuit = qi.QuantumCircuit(n)\n",
    "    circuit = add_to_circuit(circuit, disc_distr, 0, n, 1, [])\n",
    "    return circuit"
   ]
  },
  {
   "cell_type": "code",
   "execution_count": 3,
   "metadata": {},
   "outputs": [],
   "source": [
    "# Number of qubits\n",
    "n = 4\n",
    "\n",
    "# Uniform distribution\n",
    "qUni = qi.QuantumRegister(n, 'q')\n",
    "circuit = qi.QuantumCircuit(qUni)\n",
    "circuit.h(qUni)\n",
    "\n",
    "# Normal distribution\n",
    "qNorm = NormalDistribution(n)"
   ]
  },
  {
   "cell_type": "markdown",
   "metadata": {},
   "source": [
    "## Expectation & Variance calculation\n",
    "In this section we present a quantum algorithm that computes the expectation and the variance of a distribution. It takes a N qubits with their amplitudes containing the probability distribution and outputs the expectation and variance by applying a function gate F and then using iterative quantum amplitude estimation."
   ]
  },
  {
   "cell_type": "code",
   "execution_count": 15,
   "metadata": {},
   "outputs": [],
   "source": [
    "# The gate for the expectation function\n",
    "\n",
    "def gate_decompose(qc):\n",
    "    \"\"\"decompose circuit to evaluate cost\"\"\"\n",
    "    pass_ = Unroller([\"u3\", \"cx\"])\n",
    "    return PassManager(pass_).run(qc).count_ops()\n",
    "\n",
    "class simAlg():\n",
    "    def __init__(self, distr: qi.QuantumCircuit):\n",
    "        \"\"\"\n",
    "        Creates the simulation algorithm object which combines\n",
    "        the distribution and an extra quantum register\n",
    "        \"\"\"\n",
    "        # Number of qubits in the circuit\n",
    "        self.qubNum = distr.num_qubits + 1\n",
    "        # The qubit which holds the information\n",
    "        self.outReg = qi.QuantumCircuit(qi.QuantumRegister(1, 'output'))\n",
    "        # Combination of the quantum circuits\n",
    "        self.qc = distr.combine(self.outReg)\n",
    "        # Creating a simulation instance\n",
    "        sv_sim = qi.Aer.get_backend('aer_simulator')\n",
    "        self.quantum_instance = qi.utils.QuantumInstance(sv_sim)\n",
    "        # Key variables\n",
    "        self.norm = 2**(self.qubNum-1)-1\n",
    "\n",
    "    def run_qae(self, qc: qi.QuantumCircuit):\n",
    "        \"\"\"\n",
    "        Runs the Iterative Quantum Amplitude Estimation algorithm on the\n",
    "        last qubit in the circuit qi\n",
    "        \"\"\"\n",
    "        problem = EstimationProblem(qc, objective_qubits=self.qubNum-1)\n",
    "        ae = IterativeAmplitudeEstimation(\n",
    "            epsilon_target=0.01,  # target accuracy\n",
    "            alpha=0.05,\n",
    "            quantum_instance=self.quantum_instance,\n",
    "        )\n",
    "        return ae.estimate(problem).estimation\n",
    "\n",
    "    def run_algorithm(self, qc: qi.QuantumCircuit, f: qi.QuantumCircuit):\n",
    "        \"\"\"\n",
    "        Running the algorithm by combining qc and f together\n",
    "        \"\"\"\n",
    "        qcRun = qc.copy()\n",
    "        qcRun = qcRun.compose(f.copy())\n",
    "        return self.run_qae(qcRun), gate_decompose(qcRun.decompose())\n",
    "\n",
    "    def cal_expectation(self):\n",
    "        \"\"\"\n",
    "        Calculates the expectation of the distribution function\n",
    "        using the algorithm\n",
    "        \"\"\"\n",
    "        func = self.func_expectation()\n",
    "        qae_res, decomp = self.run_algorithm(self.qc, func)\n",
    "        return qae_res*self.norm, decomp\n",
    "\n",
    "    def func_expectation(self):\n",
    "        # Creating the function\n",
    "        func = LinearAmplitudeFunction(self.qubNum-1, 1/self.norm, 0, [0,2**(self.qubNum-1)-1], [0,1])\n",
    "        return func\n",
    "\n",
    "    def cal_variance(self):\n",
    "        # Calculating the expectation\n",
    "        exp, decomp = self.cal_expectation()\n",
    "        \n",
    "        # Calculating function f(x)=x^2\n",
    "        func = self.func_variance()\n",
    "        qae_res, decomp2 = self.run_algorithm(self.qc, func)\n",
    "        return 2*((qae_res-((exp/self.norm)**2))), {k:decomp[k] + decomp2[k] for k in decomp.keys()}\n",
    "\n",
    "    def func_variance(self):\n",
    "        n = self.qubNum-1\n",
    "        func = LinearAmplitudeFunction(self.qubNum-1, 1/2**(n+3), -0.1, [0,2**(self.qubNum-1)-1], [0,1])\n",
    "        func2 = LinearAmplitudeFunction(self.qubNum-1, 1/self.norm, 0, [0,2**(self.qubNum-1)-1], [0,1])\n",
    "        func = func.compose(func2)\n",
    "        return func\n",
    "        "
   ]
  },
  {
   "cell_type": "markdown",
   "metadata": {},
   "source": [
    "### Running Gate Big O Testing\n",
    "We will run a test on the number of qubits used in the calculation of variance and expectation in order to create subsequent graphics"
   ]
  },
  {
   "cell_type": "code",
   "execution_count": 23,
   "metadata": {},
   "outputs": [
    {
     "name": "stderr",
     "output_type": "stream",
     "text": [
      "100%|██████████| 39/39 [00:07<00:00,  5.07it/s]\n"
     ]
    }
   ],
   "source": [
    "# Performing the gate calculation\n",
    "expect_gate = []\n",
    "variance_gate = []\n",
    "\n",
    "compRange = range(1,40)\n",
    "\n",
    "for j in tqdm(compRange):\n",
    "    distribution = qi.QuantumCircuit(j)\n",
    "    alg = simAlg(distribution)\n",
    "    func = alg.func_variance()\n",
    "    decomposition = gate_decompose(func.decompose())\n",
    "    variance_gate.append(decomposition['u3'] + decomposition['cx'])\n",
    "    func = alg.func_expectation()\n",
    "    decomposition = gate_decompose(func.decompose())\n",
    "    expect_gate.append(decomposition['u3'] + decomposition['cx'])\n"
   ]
  },
  {
   "cell_type": "code",
   "execution_count": 26,
   "metadata": {},
   "outputs": [
    {
     "data": {
      "image/png": "[encoded data removed]",
      "text/plain": [
       "<Figure size 432x288 with 1 Axes>"
      ]
     },
     "metadata": {
      "needs_background": "light"
     },
     "output_type": "display_data"
    }
   ],
   "source": [
    "# Plotting the results\n",
    "plt.rcParams['ytick.right'] = plt.rcParams['ytick.labelright'] = True\n",
    "plt.rcParams['ytick.left'] = plt.rcParams['ytick.labelleft'] = False\n",
    "plt.plot(list(compRange), variance_gate, label='Variance', color='red')\n",
    "plt.plot(list(compRange), expect_gate, label='Expectation', color='green')\n",
    "plt.ylabel('Number of gates', )\n",
    "plt.xlabel('Number of qubits used')\n",
    "plt.legend(loc='upper left')\n",
    "plt.show()"
   ]
  },
  {
   "cell_type": "markdown",
   "metadata": {},
   "source": [
    "### Gate complexity of cGAN and Implemented\n",
    "Below we run the comparison of the number of 'u3' and 'cx' gates in two algorithms:\n",
    "-   A trained cGAN that mimics the normal distribution\n",
    "-   A qiskit algorithm for the normal distribution"
   ]
  },
  {
   "cell_type": "code",
   "execution_count": 10,
   "metadata": {},
   "outputs": [],
   "source": [
    "# Creating functions to train the circuit\n",
    "def normalDataset(n: int):\n",
    "    \"\"\"\n",
    "    Creates a random set of integers to train on\n",
    "    \"\"\"\n",
    "    exp, normalData = 2**(n-1)-0.5, []\n",
    "    for j in range(1000):\n",
    "        r = np.random.normal(exp, 1)\n",
    "        if r>0 and r<2**n:\n",
    "            normalData.append(r)\n",
    "    return normalData\n",
    "\n",
    "def train_normal(n: int):\n",
    "    \"\"\"\n",
    "    We attempt short training of the normal distribution\n",
    "    We used the following article for inspiration:\n",
    "    https://insidebigdata.com/2021/05/27/quantum-machine-learning-an-introduction-to-qgans/\n",
    "    \"\"\"\n",
    "    trainDataset = np.array(normalDataset(n))\n",
    "    num_qubits = [n]\n",
    "    num_epochs = 10\n",
    "    bounds = [0, (2**n)-1]\n",
    "    sv_sim = qi.Aer.get_backend('aer_simulator')\n",
    "    quantum_instance = qi.utils.QuantumInstance(sv_sim)\n",
    "    # Training model\n",
    "    distr = QGAN(trainDataset, bounds, num_qubits, num_epochs=num_epochs, snapshot_dir=None)\n",
    "\n",
    "    # Running the training\n",
    "    train_res = distr.run(quantum_instance)\n",
    "\n",
    "    # Inserting the result into a quantum circuit\n",
    "    q = qi.QuantumRegister(n)\n",
    "    init_dist = qi.QuantumCircuit(q)\n",
    "    var_form = TwoLocal(n, \"ry\", \"cz\", entanglement=\"circular\", reps=1)\n",
    "    g_circuit = init_dist.compose(var_form)\n",
    "    theta = var_form.ordered_parameters\n",
    "\n",
    "    circuit = g_circuit.assign_parameters(dict(zip(theta, train_res['params_g'])))\n",
    "    return circuit\n",
    "\n",
    "a = train_normal(2)"
   ]
  },
  {
   "cell_type": "code",
   "execution_count": 13,
   "metadata": {},
   "outputs": [
    {
     "name": "stderr",
     "output_type": "stream",
     "text": [
      "100%|██████████| 9/9 [03:45<00:00, 25.10s/it]\n"
     ]
    }
   ],
   "source": [
    "# Testing the complexity of the resulting models\n",
    "qGAN_gates = []\n",
    "finance_gates = []\n",
    "\n",
    "testRange = range(1,10)\n",
    "\n",
    "for j in tqdm(testRange):\n",
    "    # Creating the models\n",
    "    qGAN_model = train_normal(j)\n",
    "    finance_model = NormalDistribution(j)\n",
    "    # Measuring gate complexity\n",
    "    decomposition = gate_decompose(qGAN_model.decompose())\n",
    "    try:\n",
    "        qGAN_gates.append(decomposition['u3'] + decomposition['cx'])\n",
    "    except:\n",
    "        qGAN_gates.append(decomposition['u3'])\n",
    "    decomposition = gate_decompose(finance_model.decompose())\n",
    "    try:\n",
    "        finance_gates.append(decomposition['u3'] + decomposition['cx'])\n",
    "    except:\n",
    "        finance_gates.append(decomposition['u3'])\n"
   ]
  },
  {
   "cell_type": "code",
   "execution_count": 14,
   "metadata": {},
   "outputs": [
    {
     "data": {
      "image/png": "[encoded data removed]",
      "text/plain": [
       "<Figure size 432x288 with 1 Axes>"
      ]
     },
     "metadata": {
      "needs_background": "light"
     },
     "output_type": "display_data"
    }
   ],
   "source": [
    "# Plotting our results\n",
    "plt.plot(list(testRange), qGAN_gates, label='qGAN')\n",
    "plt.plot(list(testRange), finance_gates, label='Brute-force')\n",
    "plt.ylabel('Number of gates')\n",
    "plt.xlabel('Number of qubits used')\n",
    "plt.legend(loc='upper left')\n",
    "plt.show()"
   ]
  }
 ],
 "metadata": {
  "kernelspec": {
   "display_name": "Python 3.8.3 ('base')",
   "language": "python",
   "name": "python3"
  },
  "language_info": {
   "codemirror_mode": {
    "name": "ipython",
    "version": 3
   },
   "file_extension": ".py",
   "mimetype": "text/x-python",
   "name": "python",
   "nbconvert_exporter": "python",
   "pygments_lexer": "ipython3",
   "version": "3.8.3"
  },
  "orig_nbformat": 4,
  "vscode": {
   "interpreter": {
    "hash": "ad2bdc8ecc057115af97d19610ffacc2b4e99fae6737bb82f5d7fb13d2f2c186"
   }
  }
 },
 "nbformat": 4,
 "nbformat_minor": 2
}
