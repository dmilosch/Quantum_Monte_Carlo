{
 "cells": [
  {
   "cell_type": "markdown",
   "metadata": {},
   "source": [
    "# Quantum Monte Carlo\n",
    "This file showcases all the code that was used in the AMS553 final project\n",
    "Author: David Miloschewsky"
   ]
  },
  {
   "cell_type": "code",
   "execution_count": 3,
   "metadata": {},
   "outputs": [],
   "source": [
    "# Imports\n",
    "import qiskit as qi\n",
    "from qiskit_finance.circuit.library import NormalDistribution"
   ]
  },
  {
   "cell_type": "markdown",
   "metadata": {},
   "source": [
    "## Probability distribution in a quantum state\n",
    "In this section we show several ways to insert a probability distribution into the amplitudes of N qubits."
   ]
  },
  {
   "cell_type": "code",
   "execution_count": 4,
   "metadata": {},
   "outputs": [
    {
     "name": "stdout",
     "output_type": "stream",
     "text": [
      "     ┌───────┐\n",
      "q_0: ┤0      ├\n",
      "     │       │\n",
      "q_1: ┤1      ├\n",
      "     │  P(X) │\n",
      "q_2: ┤2      ├\n",
      "     │       │\n",
      "q_3: ┤3      ├\n",
      "     └───────┘\n"
     ]
    }
   ],
   "source": [
    "# Number of qubits\n",
    "n = 4\n",
    "\n",
    "# Uniform distribution\n",
    "qUni = qi.QuantumRegister(n, 'q')\n",
    "circuit = qi.QuantumCircuit(qUni)\n",
    "circuit.h(qUni)\n",
    "\n",
    "# Normal distribution\n",
    "qNorm = NormalDistribution(n)\n"
   ]
  },
  {
   "cell_type": "markdown",
   "metadata": {},
   "source": [
    "## Expectation & Variance calculation\n",
    "In this section we present a quantum algorithm that computes the expectation and the variance of a distribution. It takes a N qubits with their amplitudes containing the probability distribution and outputs the expectation and variance by applying a function gate F and then using iterative quantum amplitude estimation."
   ]
  }
 ],
 "metadata": {
  "kernelspec": {
   "display_name": "Python 3.8.3 ('base')",
   "language": "python",
   "name": "python3"
  },
  "language_info": {
   "codemirror_mode": {
    "name": "ipython",
    "version": 3
   },
   "file_extension": ".py",
   "mimetype": "text/x-python",
   "name": "python",
   "nbconvert_exporter": "python",
   "pygments_lexer": "ipython3",
   "version": "3.8.3"
  },
  "orig_nbformat": 4,
  "vscode": {
   "interpreter": {
    "hash": "ad2bdc8ecc057115af97d19610ffacc2b4e99fae6737bb82f5d7fb13d2f2c186"
   }
  }
 },
 "nbformat": 4,
 "nbformat_minor": 2
}
